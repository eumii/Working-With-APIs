{
 "cells": [
  {
   "cell_type": "markdown",
   "metadata": {},
   "source": [
    "# Use this notbook for your 3 choices of APIs"
   ]
  },
  {
   "attachments": {},
   "cell_type": "markdown",
   "metadata": {},
   "source": [
    "## API n° 1 : Inshorts informations (sciences)"
   ]
  },
  {
   "cell_type": "code",
   "execution_count": 61,
   "metadata": {},
   "outputs": [],
   "source": [
    "import requests\n",
    "import pandas as pd \n",
    "import numpy as np \n",
    "from pandas import json_normalize"
   ]
  },
  {
   "cell_type": "code",
   "execution_count": 62,
   "metadata": {},
   "outputs": [
    {
     "data": {
      "text/plain": [
       "<Response [200]>"
      ]
     },
     "execution_count": 62,
     "metadata": {},
     "output_type": "execute_result"
    }
   ],
   "source": [
    "res = requests.get('https://inshorts.deta.dev/news?category=science')\n",
    "res"
   ]
  },
  {
   "cell_type": "code",
   "execution_count": 63,
   "metadata": {},
   "outputs": [],
   "source": [
    "sc = res.json()\n",
    "scdata = pd.DataFrame(sc)\n",
    "# print(sc)\n",
    "# scdata"
   ]
  },
  {
   "cell_type": "code",
   "execution_count": 64,
   "metadata": {},
   "outputs": [],
   "source": [
    "flattened_data = json_normalize(scdata['data'])\n",
    "# flattened_data\n"
   ]
  },
  {
   "cell_type": "code",
   "execution_count": 65,
   "metadata": {},
   "outputs": [
    {
     "data": {
      "text/plain": [
       "(25, 9)"
      ]
     },
     "execution_count": 65,
     "metadata": {},
     "output_type": "execute_result"
    }
   ],
   "source": [
    "flattened_data.shape"
   ]
  },
  {
   "attachments": {},
   "cell_type": "markdown",
   "metadata": {},
   "source": [
    "## My interesting output from this API"
   ]
  },
  {
   "cell_type": "code",
   "execution_count": 69,
   "metadata": {},
   "outputs": [
    {
     "name": "stdout",
     "output_type": "stream",
     "text": [
      "James Webb's images show 'barred' galaxies from 8-11 bn years ago\n",
      "Images from NASA's James Webb Telescope have revealed galaxies with stellar bars, much like our Milky Way, from eight to 11 billion years ago when the universe was much younger. This is the first time stellar bars have been observed in such young galaxies. Scientists identified two \"barred\" galaxies from about 11 billion years ago.\n",
      "\n"
     ]
    }
   ],
   "source": [
    "print(flattened_data['title'][16])\n",
    "print(flattened_data['content'][16])\n"
   ]
  },
  {
   "attachments": {},
   "cell_type": "markdown",
   "metadata": {},
   "source": [
    "# API n°2 : Carbon intensity factor in the south of the UK"
   ]
  },
  {
   "cell_type": "code",
   "execution_count": 106,
   "metadata": {},
   "outputs": [
    {
     "data": {
      "text/plain": [
       "<Response [200]>"
      ]
     },
     "execution_count": 106,
     "metadata": {},
     "output_type": "execute_result"
    }
   ],
   "source": [
    "res_2 = requests.get('https://api.carbonintensity.org.uk/regional/intensity/2018-05-15T12:00Z/2018-05-16T12:00Z/postcode/RG10')\n",
    "res_2 "
   ]
  },
  {
   "cell_type": "code",
   "execution_count": 121,
   "metadata": {},
   "outputs": [
    {
     "data": {
      "text/plain": [
       "{'data': {'regionid': 12,\n",
       "  'shortname': 'South England',\n",
       "  'postcode': 'RG10',\n",
       "  'data': [{'from': '2018-05-15T11:30Z',\n",
       "    'to': '2018-05-15T12:00Z',\n",
       "    'intensity': {'forecast': 235, 'index': 'moderate'},\n",
       "    'generationmix': [{'fuel': 'biomass', 'perc': 0.2},\n",
       "     {'fuel': 'coal', 'perc': 0},\n",
       "     {'fuel': 'imports', 'perc': 0},\n",
       "     {'fuel': 'gas', 'perc': 59.9},\n",
       "     {'fuel': 'nuclear', 'perc': 0.4},\n",
       "     {'fuel': 'other', 'perc': 0},\n",
       "     {'fuel': 'hydro', 'perc': 0},\n",
       "     {'fuel': 'solar', 'perc': 39.3},\n",
       "     {'fuel': 'wind', 'perc': 0.2}]},\n",
       "   {'from': '2018-05-15T12:00Z',\n",
       "    'to': '2018-05-15T12:30Z',\n",
       "    'intensity': {'forecast': 233, 'index': 'moderate'},\n",
       "    'generationmix': [{'fuel': 'biomass', 'perc': 0.4},\n",
       "     {'fuel': 'coal', 'perc': 0.1},\n",
       "     {'fuel': 'imports', 'perc': 0},\n",
       "     {'fuel': 'gas', 'perc': 58.9},\n",
       "     {'fuel': 'nuclear', 'perc': 0.6},\n",
       "     {'fuel': 'other', 'perc': 0},\n",
       "     {'fuel': 'hydro', 'perc': 0},\n",
       "     {'fuel': 'solar', 'perc': 39.8},\n",
       "     {'fuel': 'wind', 'perc': 0.2}]},\n",
       "   {'from': '2018-05-15T12:30Z',\n",
       "    'to': '2018-05-15T13:00Z',\n",
       "    'intensity': {'forecast': 232, 'index': 'moderate'},\n",
       "    'generationmix': [{'fuel': 'biomass', 'perc': 0.6},\n",
       "     {'fuel': 'coal', 'perc': 0.1},\n",
       "     {'fuel': 'imports', 'perc': 0},\n",
       "     {'fuel': 'gas', 'perc': 58.4},\n",
       "     {'fuel': 'nuclear', 'perc': 0.8},\n",
       "     {'fuel': 'other', 'perc': 0},\n",
       "     {'fuel': 'hydro', 'perc': 0},\n",
       "     {'fuel': 'solar', 'perc': 39.8},\n",
       "     {'fuel': 'wind', 'perc': 0.3}]},\n",
       "   {'from': '2018-05-15T13:00Z',\n",
       "    'to': '2018-05-15T13:30Z',\n",
       "    'intensity': {'forecast': 232, 'index': 'moderate'},\n",
       "    'generationmix': [{'fuel': 'biomass', 'perc': 0.9},\n",
       "     {'fuel': 'coal', 'perc': 0.2},\n",
       "     {'fuel': 'imports', 'perc': 0},\n",
       "     {'fuel': 'gas', 'perc': 58.1},\n",
       "     {'fuel': 'nuclear', 'perc': 1.1},\n",
       "     {'fuel': 'other', 'perc': 0},\n",
       "     {'fuel': 'hydro', 'perc': 0.1},\n",
       "     {'fuel': 'solar', 'perc': 39.1},\n",
       "     {'fuel': 'wind', 'perc': 0.5}]},\n",
       "   {'from': '2018-05-15T13:30Z',\n",
       "    'to': '2018-05-15T14:00Z',\n",
       "    'intensity': {'forecast': 234, 'index': 'moderate'},\n",
       "    'generationmix': [{'fuel': 'biomass', 'perc': 1.3},\n",
       "     {'fuel': 'coal', 'perc': 0.3},\n",
       "     {'fuel': 'imports', 'perc': 0},\n",
       "     {'fuel': 'gas', 'perc': 58.3},\n",
       "     {'fuel': 'nuclear', 'perc': 1.4},\n",
       "     {'fuel': 'other', 'perc': 0},\n",
       "     {'fuel': 'hydro', 'perc': 0.1},\n",
       "     {'fuel': 'solar', 'perc': 38},\n",
       "     {'fuel': 'wind', 'perc': 0.6}]},\n",
       "   {'from': '2018-05-15T14:00Z',\n",
       "    'to': '2018-05-15T14:30Z',\n",
       "    'intensity': {'forecast': 236, 'index': 'moderate'},\n",
       "    'generationmix': [{'fuel': 'biomass', 'perc': 1.4},\n",
       "     {'fuel': 'coal', 'perc': 0.4},\n",
       "     {'fuel': 'imports', 'perc': 0.5},\n",
       "     {'fuel': 'gas', 'perc': 58.4},\n",
       "     {'fuel': 'nuclear', 'perc': 1.8},\n",
       "     {'fuel': 'other', 'perc': 0},\n",
       "     {'fuel': 'hydro', 'perc': 0.1},\n",
       "     {'fuel': 'solar', 'perc': 36.8},\n",
       "     {'fuel': 'wind', 'perc': 0.6}]},\n",
       "   {'from': '2018-05-15T14:30Z',\n",
       "    'to': '2018-05-15T15:00Z',\n",
       "    'intensity': {'forecast': 238, 'index': 'moderate'},\n",
       "    'generationmix': [{'fuel': 'biomass', 'perc': 1.1},\n",
       "     {'fuel': 'coal', 'perc': 0.3},\n",
       "     {'fuel': 'imports', 'perc': 1.4},\n",
       "     {'fuel': 'gas', 'perc': 58.8},\n",
       "     {'fuel': 'nuclear', 'perc': 2.2},\n",
       "     {'fuel': 'other', 'perc': 0},\n",
       "     {'fuel': 'hydro', 'perc': 0},\n",
       "     {'fuel': 'solar', 'perc': 35.7},\n",
       "     {'fuel': 'wind', 'perc': 0.5}]},\n",
       "   {'from': '2018-05-15T15:00Z',\n",
       "    'to': '2018-05-15T15:30Z',\n",
       "    'intensity': {'forecast': 242, 'index': 'moderate'},\n",
       "    'generationmix': [{'fuel': 'biomass', 'perc': 1},\n",
       "     {'fuel': 'coal', 'perc': 0.3},\n",
       "     {'fuel': 'imports', 'perc': 2.4},\n",
       "     {'fuel': 'gas', 'perc': 59.1},\n",
       "     {'fuel': 'nuclear', 'perc': 2.6},\n",
       "     {'fuel': 'other', 'perc': 0},\n",
       "     {'fuel': 'hydro', 'perc': 0},\n",
       "     {'fuel': 'solar', 'perc': 33.9},\n",
       "     {'fuel': 'wind', 'perc': 0.7}]},\n",
       "   {'from': '2018-05-15T15:30Z',\n",
       "    'to': '2018-05-15T16:00Z',\n",
       "    'intensity': {'forecast': 247, 'index': 'moderate'},\n",
       "    'generationmix': [{'fuel': 'biomass', 'perc': 1.1},\n",
       "     {'fuel': 'coal', 'perc': 0.3},\n",
       "     {'fuel': 'imports', 'perc': 3.5},\n",
       "     {'fuel': 'gas', 'perc': 60.2},\n",
       "     {'fuel': 'nuclear', 'perc': 3},\n",
       "     {'fuel': 'other', 'perc': 0},\n",
       "     {'fuel': 'hydro', 'perc': 0},\n",
       "     {'fuel': 'solar', 'perc': 31},\n",
       "     {'fuel': 'wind', 'perc': 0.9}]},\n",
       "   {'from': '2018-05-15T16:00Z',\n",
       "    'to': '2018-05-15T16:30Z',\n",
       "    'intensity': {'forecast': 255, 'index': 'moderate'},\n",
       "    'generationmix': [{'fuel': 'biomass', 'perc': 1.2},\n",
       "     {'fuel': 'coal', 'perc': 0.4},\n",
       "     {'fuel': 'imports', 'perc': 6},\n",
       "     {'fuel': 'gas', 'perc': 60.7},\n",
       "     {'fuel': 'nuclear', 'perc': 3.9},\n",
       "     {'fuel': 'other', 'perc': 0},\n",
       "     {'fuel': 'hydro', 'perc': 0.1},\n",
       "     {'fuel': 'solar', 'perc': 26.5},\n",
       "     {'fuel': 'wind', 'perc': 1.2}]},\n",
       "   {'from': '2018-05-15T16:30Z',\n",
       "    'to': '2018-05-15T17:00Z',\n",
       "    'intensity': {'forecast': 266, 'index': 'moderate'},\n",
       "    'generationmix': [{'fuel': 'biomass', 'perc': 1.4},\n",
       "     {'fuel': 'coal', 'perc': 0.4},\n",
       "     {'fuel': 'imports', 'perc': 9.2},\n",
       "     {'fuel': 'gas', 'perc': 61.5},\n",
       "     {'fuel': 'nuclear', 'perc': 4.7},\n",
       "     {'fuel': 'other', 'perc': 0},\n",
       "     {'fuel': 'hydro', 'perc': 0.1},\n",
       "     {'fuel': 'solar', 'perc': 21.3},\n",
       "     {'fuel': 'wind', 'perc': 1.4}]},\n",
       "   {'from': '2018-05-15T17:00Z',\n",
       "    'to': '2018-05-15T17:30Z',\n",
       "    'intensity': {'forecast': 278, 'index': 'moderate'},\n",
       "    'generationmix': [{'fuel': 'biomass', 'perc': 2.3},\n",
       "     {'fuel': 'coal', 'perc': 0.7},\n",
       "     {'fuel': 'imports', 'perc': 10.1},\n",
       "     {'fuel': 'gas', 'perc': 64},\n",
       "     {'fuel': 'nuclear', 'perc': 4.6},\n",
       "     {'fuel': 'other', 'perc': 0},\n",
       "     {'fuel': 'hydro', 'perc': 0.1},\n",
       "     {'fuel': 'solar', 'perc': 16.1},\n",
       "     {'fuel': 'wind', 'perc': 2.1}]},\n",
       "   {'from': '2018-05-15T17:30Z',\n",
       "    'to': '2018-05-15T18:00Z',\n",
       "    'intensity': {'forecast': 290, 'index': 'high'},\n",
       "    'generationmix': [{'fuel': 'biomass', 'perc': 3.1},\n",
       "     {'fuel': 'coal', 'perc': 1},\n",
       "     {'fuel': 'imports', 'perc': 9.9},\n",
       "     {'fuel': 'gas', 'perc': 66.1},\n",
       "     {'fuel': 'nuclear', 'perc': 4.7},\n",
       "     {'fuel': 'other', 'perc': 0},\n",
       "     {'fuel': 'hydro', 'perc': 0.2},\n",
       "     {'fuel': 'solar', 'perc': 12.2},\n",
       "     {'fuel': 'wind', 'perc': 2.8}]},\n",
       "   {'from': '2018-05-15T18:00Z',\n",
       "    'to': '2018-05-15T18:30Z',\n",
       "    'intensity': {'forecast': 298, 'index': 'high'},\n",
       "    'generationmix': [{'fuel': 'biomass', 'perc': 3.3},\n",
       "     {'fuel': 'coal', 'perc': 0.9},\n",
       "     {'fuel': 'imports', 'perc': 9.7},\n",
       "     {'fuel': 'gas', 'perc': 68.7},\n",
       "     {'fuel': 'nuclear', 'perc': 5},\n",
       "     {'fuel': 'other', 'perc': 0},\n",
       "     {'fuel': 'hydro', 'perc': 0.3},\n",
       "     {'fuel': 'solar', 'perc': 8.6},\n",
       "     {'fuel': 'wind', 'perc': 3.5}]},\n",
       "   {'from': '2018-05-15T18:30Z',\n",
       "    'to': '2018-05-15T19:00Z',\n",
       "    'intensity': {'forecast': 303, 'index': 'high'},\n",
       "    'generationmix': [{'fuel': 'biomass', 'perc': 3.3},\n",
       "     {'fuel': 'coal', 'perc': 0.8},\n",
       "     {'fuel': 'imports', 'perc': 10.7},\n",
       "     {'fuel': 'gas', 'perc': 69.3},\n",
       "     {'fuel': 'nuclear', 'perc': 5.8},\n",
       "     {'fuel': 'other', 'perc': 0},\n",
       "     {'fuel': 'hydro', 'perc': 0.4},\n",
       "     {'fuel': 'solar', 'perc': 5.5},\n",
       "     {'fuel': 'wind', 'perc': 4.2}]},\n",
       "   {'from': '2018-05-15T19:00Z',\n",
       "    'to': '2018-05-15T19:30Z',\n",
       "    'intensity': {'forecast': 306, 'index': 'high'},\n",
       "    'generationmix': [{'fuel': 'biomass', 'perc': 3.4},\n",
       "     {'fuel': 'coal', 'perc': 0.8},\n",
       "     {'fuel': 'imports', 'perc': 10.8},\n",
       "     {'fuel': 'gas', 'perc': 69.8},\n",
       "     {'fuel': 'nuclear', 'perc': 6.4},\n",
       "     {'fuel': 'other', 'perc': 0},\n",
       "     {'fuel': 'hydro', 'perc': 0.6},\n",
       "     {'fuel': 'solar', 'perc': 3.1},\n",
       "     {'fuel': 'wind', 'perc': 5.1}]},\n",
       "   {'from': '2018-05-15T19:30Z',\n",
       "    'to': '2018-05-15T20:00Z',\n",
       "    'intensity': {'forecast': 309, 'index': 'high'},\n",
       "    'generationmix': [{'fuel': 'biomass', 'perc': 3.5},\n",
       "     {'fuel': 'coal', 'perc': 0.8},\n",
       "     {'fuel': 'imports', 'perc': 9.8},\n",
       "     {'fuel': 'gas', 'perc': 71.2},\n",
       "     {'fuel': 'nuclear', 'perc': 6.5},\n",
       "     {'fuel': 'other', 'perc': 0},\n",
       "     {'fuel': 'hydro', 'perc': 0.9},\n",
       "     {'fuel': 'solar', 'perc': 1.4},\n",
       "     {'fuel': 'wind', 'perc': 5.9}]},\n",
       "   {'from': '2018-05-15T20:00Z',\n",
       "    'to': '2018-05-15T20:30Z',\n",
       "    'intensity': {'forecast': 311, 'index': 'high'},\n",
       "    'generationmix': [{'fuel': 'biomass', 'perc': 3.6},\n",
       "     {'fuel': 'coal', 'perc': 0.9},\n",
       "     {'fuel': 'imports', 'perc': 8.9},\n",
       "     {'fuel': 'gas', 'perc': 71.6},\n",
       "     {'fuel': 'nuclear', 'perc': 6.6},\n",
       "     {'fuel': 'other', 'perc': 0},\n",
       "     {'fuel': 'hydro', 'perc': 1.2},\n",
       "     {'fuel': 'solar', 'perc': 0.5},\n",
       "     {'fuel': 'wind', 'perc': 6.7}]},\n",
       "   {'from': '2018-05-15T20:30Z',\n",
       "    'to': '2018-05-15T21:00Z',\n",
       "    'intensity': {'forecast': 312, 'index': 'high'},\n",
       "    'generationmix': [{'fuel': 'biomass', 'perc': 3.7},\n",
       "     {'fuel': 'coal', 'perc': 0.9},\n",
       "     {'fuel': 'imports', 'perc': 7.5},\n",
       "     {'fuel': 'gas', 'perc': 72.5},\n",
       "     {'fuel': 'nuclear', 'perc': 6.4},\n",
       "     {'fuel': 'other', 'perc': 0},\n",
       "     {'fuel': 'hydro', 'perc': 1.5},\n",
       "     {'fuel': 'solar', 'perc': 0.1},\n",
       "     {'fuel': 'wind', 'perc': 7.4}]},\n",
       "   {'from': '2018-05-15T21:00Z',\n",
       "    'to': '2018-05-15T21:30Z',\n",
       "    'intensity': {'forecast': 312, 'index': 'high'},\n",
       "    'generationmix': [{'fuel': 'biomass', 'perc': 3.9},\n",
       "     {'fuel': 'coal', 'perc': 1},\n",
       "     {'fuel': 'imports', 'perc': 6},\n",
       "     {'fuel': 'gas', 'perc': 73.2},\n",
       "     {'fuel': 'nuclear', 'perc': 6.2},\n",
       "     {'fuel': 'other', 'perc': 0},\n",
       "     {'fuel': 'hydro', 'perc': 1.7},\n",
       "     {'fuel': 'solar', 'perc': 0},\n",
       "     {'fuel': 'wind', 'perc': 8}]},\n",
       "   {'from': '2018-05-15T21:30Z',\n",
       "    'to': '2018-05-15T22:00Z',\n",
       "    'intensity': {'forecast': 313, 'index': 'high'},\n",
       "    'generationmix': [{'fuel': 'biomass', 'perc': 4},\n",
       "     {'fuel': 'coal', 'perc': 1},\n",
       "     {'fuel': 'imports', 'perc': 4.8},\n",
       "     {'fuel': 'gas', 'perc': 73.8},\n",
       "     {'fuel': 'nuclear', 'perc': 6},\n",
       "     {'fuel': 'other', 'perc': 0},\n",
       "     {'fuel': 'hydro', 'perc': 1.9},\n",
       "     {'fuel': 'solar', 'perc': 0},\n",
       "     {'fuel': 'wind', 'perc': 8.5}]},\n",
       "   {'from': '2018-05-15T22:00Z',\n",
       "    'to': '2018-05-15T22:30Z',\n",
       "    'intensity': {'forecast': 312, 'index': 'high'},\n",
       "    'generationmix': [{'fuel': 'biomass', 'perc': 3.9},\n",
       "     {'fuel': 'coal', 'perc': 1},\n",
       "     {'fuel': 'imports', 'perc': 3.5},\n",
       "     {'fuel': 'gas', 'perc': 74.5},\n",
       "     {'fuel': 'nuclear', 'perc': 6},\n",
       "     {'fuel': 'other', 'perc': 0},\n",
       "     {'fuel': 'hydro', 'perc': 2},\n",
       "     {'fuel': 'solar', 'perc': 0},\n",
       "     {'fuel': 'wind', 'perc': 9.1}]},\n",
       "   {'from': '2018-05-15T22:30Z',\n",
       "    'to': '2018-05-15T23:00Z',\n",
       "    'intensity': {'forecast': 308, 'index': 'high'},\n",
       "    'generationmix': [{'fuel': 'biomass', 'perc': 3.5},\n",
       "     {'fuel': 'coal', 'perc': 0.9},\n",
       "     {'fuel': 'imports', 'perc': 3.1},\n",
       "     {'fuel': 'gas', 'perc': 74.2},\n",
       "     {'fuel': 'nuclear', 'perc': 6.9},\n",
       "     {'fuel': 'other', 'perc': 0},\n",
       "     {'fuel': 'hydro', 'perc': 2},\n",
       "     {'fuel': 'solar', 'perc': 0},\n",
       "     {'fuel': 'wind', 'perc': 9.4}]},\n",
       "   {'from': '2018-05-15T23:00Z',\n",
       "    'to': '2018-05-15T23:30Z',\n",
       "    'intensity': {'forecast': 299, 'index': 'high'},\n",
       "    'generationmix': [{'fuel': 'biomass', 'perc': 3.4},\n",
       "     {'fuel': 'coal', 'perc': 0.6},\n",
       "     {'fuel': 'imports', 'perc': 2.3},\n",
       "     {'fuel': 'gas', 'perc': 73.1},\n",
       "     {'fuel': 'nuclear', 'perc': 8.4},\n",
       "     {'fuel': 'other', 'perc': 0},\n",
       "     {'fuel': 'hydro', 'perc': 1.9},\n",
       "     {'fuel': 'solar', 'perc': 0},\n",
       "     {'fuel': 'wind', 'perc': 10.3}]},\n",
       "   {'from': '2018-05-15T23:30Z',\n",
       "    'to': '2018-05-16T00:00Z',\n",
       "    'intensity': {'forecast': 271, 'index': 'moderate'},\n",
       "    'generationmix': [{'fuel': 'biomass', 'perc': 4.5},\n",
       "     {'fuel': 'coal', 'perc': 0.4},\n",
       "     {'fuel': 'imports', 'perc': 1.2},\n",
       "     {'fuel': 'gas', 'perc': 66.3},\n",
       "     {'fuel': 'nuclear', 'perc': 12.1},\n",
       "     {'fuel': 'other', 'perc': 0},\n",
       "     {'fuel': 'hydro', 'perc': 1.9},\n",
       "     {'fuel': 'solar', 'perc': 0},\n",
       "     {'fuel': 'wind', 'perc': 13.6}]},\n",
       "   {'from': '2018-05-16T00:00Z',\n",
       "    'to': '2018-05-16T00:30Z',\n",
       "    'intensity': {'forecast': 267, 'index': 'moderate'},\n",
       "    'generationmix': [{'fuel': 'biomass', 'perc': 4.8},\n",
       "     {'fuel': 'coal', 'perc': 0.4},\n",
       "     {'fuel': 'imports', 'perc': 0.5},\n",
       "     {'fuel': 'gas', 'perc': 65.2},\n",
       "     {'fuel': 'nuclear', 'perc': 12.7},\n",
       "     {'fuel': 'other', 'perc': 0},\n",
       "     {'fuel': 'hydro', 'perc': 1.9},\n",
       "     {'fuel': 'solar', 'perc': 0},\n",
       "     {'fuel': 'wind', 'perc': 14.5}]},\n",
       "   {'from': '2018-05-16T00:30Z',\n",
       "    'to': '2018-05-16T01:00Z',\n",
       "    'intensity': {'forecast': 261, 'index': 'moderate'},\n",
       "    'generationmix': [{'fuel': 'biomass', 'perc': 4.9},\n",
       "     {'fuel': 'coal', 'perc': 0.5},\n",
       "     {'fuel': 'imports', 'perc': 0.6},\n",
       "     {'fuel': 'gas', 'perc': 62.8},\n",
       "     {'fuel': 'nuclear', 'perc': 14.1},\n",
       "     {'fuel': 'other', 'perc': 0},\n",
       "     {'fuel': 'hydro', 'perc': 1.8},\n",
       "     {'fuel': 'solar', 'perc': 0},\n",
       "     {'fuel': 'wind', 'perc': 15.3}]},\n",
       "   {'from': '2018-05-16T01:00Z',\n",
       "    'to': '2018-05-16T01:30Z',\n",
       "    'intensity': {'forecast': 255, 'index': 'moderate'},\n",
       "    'generationmix': [{'fuel': 'biomass', 'perc': 4.6},\n",
       "     {'fuel': 'coal', 'perc': 0.5},\n",
       "     {'fuel': 'imports', 'perc': 0.5},\n",
       "     {'fuel': 'gas', 'perc': 61.8},\n",
       "     {'fuel': 'nuclear', 'perc': 15.4},\n",
       "     {'fuel': 'other', 'perc': 0},\n",
       "     {'fuel': 'hydro', 'perc': 1.4},\n",
       "     {'fuel': 'solar', 'perc': 0},\n",
       "     {'fuel': 'wind', 'perc': 15.8}]},\n",
       "   {'from': '2018-05-16T01:30Z',\n",
       "    'to': '2018-05-16T02:00Z',\n",
       "    'intensity': {'forecast': 262, 'index': 'moderate'},\n",
       "    'generationmix': [{'fuel': 'biomass', 'perc': 5.3},\n",
       "     {'fuel': 'coal', 'perc': 2.6},\n",
       "     {'fuel': 'imports', 'perc': 0.7},\n",
       "     {'fuel': 'gas', 'perc': 57.9},\n",
       "     {'fuel': 'nuclear', 'perc': 19.3},\n",
       "     {'fuel': 'other', 'perc': 0},\n",
       "     {'fuel': 'hydro', 'perc': 0.6},\n",
       "     {'fuel': 'solar', 'perc': 0},\n",
       "     {'fuel': 'wind', 'perc': 13.6}]},\n",
       "   {'from': '2018-05-16T02:00Z',\n",
       "    'to': '2018-05-16T02:30Z',\n",
       "    'intensity': {'forecast': 261, 'index': 'moderate'},\n",
       "    'generationmix': [{'fuel': 'biomass', 'perc': 5.5},\n",
       "     {'fuel': 'coal', 'perc': 2.7},\n",
       "     {'fuel': 'imports', 'perc': 0.7},\n",
       "     {'fuel': 'gas', 'perc': 57.5},\n",
       "     {'fuel': 'nuclear', 'perc': 19.2},\n",
       "     {'fuel': 'other', 'perc': 0},\n",
       "     {'fuel': 'hydro', 'perc': 0.7},\n",
       "     {'fuel': 'solar', 'perc': 0},\n",
       "     {'fuel': 'wind', 'perc': 13.7}]},\n",
       "   {'from': '2018-05-16T02:30Z',\n",
       "    'to': '2018-05-16T03:00Z',\n",
       "    'intensity': {'forecast': 261, 'index': 'moderate'},\n",
       "    'generationmix': [{'fuel': 'biomass', 'perc': 5.9},\n",
       "     {'fuel': 'coal', 'perc': 2.9},\n",
       "     {'fuel': 'imports', 'perc': 0.6},\n",
       "     {'fuel': 'gas', 'perc': 56.9},\n",
       "     {'fuel': 'nuclear', 'perc': 19.3},\n",
       "     {'fuel': 'other', 'perc': 0},\n",
       "     {'fuel': 'hydro', 'perc': 0.7},\n",
       "     {'fuel': 'solar', 'perc': 0},\n",
       "     {'fuel': 'wind', 'perc': 13.7}]},\n",
       "   {'from': '2018-05-16T03:00Z',\n",
       "    'to': '2018-05-16T03:30Z',\n",
       "    'intensity': {'forecast': 261, 'index': 'moderate'},\n",
       "    'generationmix': [{'fuel': 'biomass', 'perc': 6.5},\n",
       "     {'fuel': 'coal', 'perc': 3.1},\n",
       "     {'fuel': 'imports', 'perc': 0.6},\n",
       "     {'fuel': 'gas', 'perc': 56.1},\n",
       "     {'fuel': 'nuclear', 'perc': 19.4},\n",
       "     {'fuel': 'other', 'perc': 0},\n",
       "     {'fuel': 'hydro', 'perc': 0.6},\n",
       "     {'fuel': 'solar', 'perc': 0},\n",
       "     {'fuel': 'wind', 'perc': 13.7}]},\n",
       "   {'from': '2018-05-16T03:30Z',\n",
       "    'to': '2018-05-16T04:00Z',\n",
       "    'intensity': {'forecast': 261, 'index': 'moderate'},\n",
       "    'generationmix': [{'fuel': 'biomass', 'perc': 7.2},\n",
       "     {'fuel': 'coal', 'perc': 3.3},\n",
       "     {'fuel': 'imports', 'perc': 0.4},\n",
       "     {'fuel': 'gas', 'perc': 56},\n",
       "     {'fuel': 'nuclear', 'perc': 19.3},\n",
       "     {'fuel': 'other', 'perc': 0},\n",
       "     {'fuel': 'hydro', 'perc': 0.6},\n",
       "     {'fuel': 'solar', 'perc': 0.2},\n",
       "     {'fuel': 'wind', 'perc': 13}]},\n",
       "   {'from': '2018-05-16T04:00Z',\n",
       "    'to': '2018-05-16T04:30Z',\n",
       "    'intensity': {'forecast': 262, 'index': 'moderate'},\n",
       "    'generationmix': [{'fuel': 'biomass', 'perc': 7.9},\n",
       "     {'fuel': 'coal', 'perc': 3.5},\n",
       "     {'fuel': 'imports', 'perc': 0.5},\n",
       "     {'fuel': 'gas', 'perc': 55.2},\n",
       "     {'fuel': 'nuclear', 'perc': 19.3},\n",
       "     {'fuel': 'other', 'perc': 0},\n",
       "     {'fuel': 'hydro', 'perc': 0.6},\n",
       "     {'fuel': 'solar', 'perc': 0.7},\n",
       "     {'fuel': 'wind', 'perc': 12.3}]},\n",
       "   {'from': '2018-05-16T04:30Z',\n",
       "    'to': '2018-05-16T05:00Z',\n",
       "    'intensity': {'forecast': 261, 'index': 'moderate'},\n",
       "    'generationmix': [{'fuel': 'biomass', 'perc': 8.4},\n",
       "     {'fuel': 'coal', 'perc': 3.8},\n",
       "     {'fuel': 'imports', 'perc': 0.5},\n",
       "     {'fuel': 'gas', 'perc': 54.6},\n",
       "     {'fuel': 'nuclear', 'perc': 19.2},\n",
       "     {'fuel': 'other', 'perc': 0},\n",
       "     {'fuel': 'hydro', 'perc': 0.5},\n",
       "     {'fuel': 'solar', 'perc': 1.6},\n",
       "     {'fuel': 'wind', 'perc': 11.4}]},\n",
       "   {'from': '2018-05-16T05:00Z',\n",
       "    'to': '2018-05-16T05:30Z',\n",
       "    'intensity': {'forecast': 261, 'index': 'moderate'},\n",
       "    'generationmix': [{'fuel': 'biomass', 'perc': 8.7},\n",
       "     {'fuel': 'coal', 'perc': 3.9},\n",
       "     {'fuel': 'imports', 'perc': 0.6},\n",
       "     {'fuel': 'gas', 'perc': 53.6},\n",
       "     {'fuel': 'nuclear', 'perc': 19},\n",
       "     {'fuel': 'other', 'perc': 0},\n",
       "     {'fuel': 'hydro', 'perc': 0.5},\n",
       "     {'fuel': 'solar', 'perc': 2.9},\n",
       "     {'fuel': 'wind', 'perc': 10.8}]},\n",
       "   {'from': '2018-05-16T05:30Z',\n",
       "    'to': '2018-05-16T06:00Z',\n",
       "    'intensity': {'forecast': 261, 'index': 'moderate'},\n",
       "    'generationmix': [{'fuel': 'biomass', 'perc': 8.6},\n",
       "     {'fuel': 'coal', 'perc': 3.9},\n",
       "     {'fuel': 'imports', 'perc': 0.5},\n",
       "     {'fuel': 'gas', 'perc': 53.8},\n",
       "     {'fuel': 'nuclear', 'perc': 18.3},\n",
       "     {'fuel': 'other', 'perc': 0},\n",
       "     {'fuel': 'hydro', 'perc': 0.5},\n",
       "     {'fuel': 'solar', 'perc': 4.2},\n",
       "     {'fuel': 'wind', 'perc': 10.2}]},\n",
       "   {'from': '2018-05-16T06:00Z',\n",
       "    'to': '2018-05-16T06:30Z',\n",
       "    'intensity': {'forecast': 264, 'index': 'moderate'},\n",
       "    'generationmix': [{'fuel': 'biomass', 'perc': 8.7},\n",
       "     {'fuel': 'coal', 'perc': 4},\n",
       "     {'fuel': 'imports', 'perc': 0.5},\n",
       "     {'fuel': 'gas', 'perc': 53.8},\n",
       "     {'fuel': 'nuclear', 'perc': 17.2},\n",
       "     {'fuel': 'other', 'perc': 0},\n",
       "     {'fuel': 'hydro', 'perc': 0.5},\n",
       "     {'fuel': 'solar', 'perc': 5.5},\n",
       "     {'fuel': 'wind', 'perc': 9.8}]},\n",
       "   {'from': '2018-05-16T06:30Z',\n",
       "    'to': '2018-05-16T07:00Z',\n",
       "    'intensity': {'forecast': 271, 'index': 'moderate'},\n",
       "    'generationmix': [{'fuel': 'biomass', 'perc': 8.9},\n",
       "     {'fuel': 'coal', 'perc': 4.1},\n",
       "     {'fuel': 'imports', 'perc': 0.5},\n",
       "     {'fuel': 'gas', 'perc': 55.3},\n",
       "     {'fuel': 'nuclear', 'perc': 15.1},\n",
       "     {'fuel': 'other', 'perc': 0},\n",
       "     {'fuel': 'hydro', 'perc': 0.5},\n",
       "     {'fuel': 'solar', 'perc': 6.6},\n",
       "     {'fuel': 'wind', 'perc': 9}]},\n",
       "   {'from': '2018-05-16T07:00Z',\n",
       "    'to': '2018-05-16T07:30Z',\n",
       "    'intensity': {'forecast': 283, 'index': 'high'},\n",
       "    'generationmix': [{'fuel': 'biomass', 'perc': 6.6},\n",
       "     {'fuel': 'coal', 'perc': 3.2},\n",
       "     {'fuel': 'imports', 'perc': 1.9},\n",
       "     {'fuel': 'gas', 'perc': 61.3},\n",
       "     {'fuel': 'nuclear', 'perc': 11.5},\n",
       "     {'fuel': 'other', 'perc': 0},\n",
       "     {'fuel': 'hydro', 'perc': 0.4},\n",
       "     {'fuel': 'solar', 'perc': 7.9},\n",
       "     {'fuel': 'wind', 'perc': 7.2}]},\n",
       "   {'from': '2018-05-16T07:30Z',\n",
       "    'to': '2018-05-16T08:00Z',\n",
       "    'intensity': {'forecast': 296, 'index': 'high'},\n",
       "    'generationmix': [{'fuel': 'biomass', 'perc': 4},\n",
       "     {'fuel': 'coal', 'perc': 2.1},\n",
       "     {'fuel': 'imports', 'perc': 2.5},\n",
       "     {'fuel': 'gas', 'perc': 68},\n",
       "     {'fuel': 'nuclear', 'perc': 9.3},\n",
       "     {'fuel': 'other', 'perc': 0},\n",
       "     {'fuel': 'hydro', 'perc': 0.2},\n",
       "     {'fuel': 'solar', 'perc': 9.2},\n",
       "     {'fuel': 'wind', 'perc': 4.7}]},\n",
       "   {'from': '2018-05-16T08:00Z',\n",
       "    'to': '2018-05-16T08:30Z',\n",
       "    'intensity': {'forecast': 304, 'index': 'high'},\n",
       "    'generationmix': [{'fuel': 'biomass', 'perc': 2.4},\n",
       "     {'fuel': 'coal', 'perc': 1.4},\n",
       "     {'fuel': 'imports', 'perc': 1.6},\n",
       "     {'fuel': 'gas', 'perc': 73.5},\n",
       "     {'fuel': 'nuclear', 'perc': 7.5},\n",
       "     {'fuel': 'other', 'perc': 0},\n",
       "     {'fuel': 'hydro', 'perc': 0.1},\n",
       "     {'fuel': 'solar', 'perc': 10.2},\n",
       "     {'fuel': 'wind', 'perc': 3.3}]},\n",
       "   {'from': '2018-05-16T08:30Z',\n",
       "    'to': '2018-05-16T09:00Z',\n",
       "    'intensity': {'forecast': 306, 'index': 'high'},\n",
       "    'generationmix': [{'fuel': 'biomass', 'perc': 1.7},\n",
       "     {'fuel': 'coal', 'perc': 1},\n",
       "     {'fuel': 'imports', 'perc': 1.9},\n",
       "     {'fuel': 'gas', 'perc': 74.1},\n",
       "     {'fuel': 'nuclear', 'perc': 7},\n",
       "     {'fuel': 'other', 'perc': 0},\n",
       "     {'fuel': 'hydro', 'perc': 0},\n",
       "     {'fuel': 'solar', 'perc': 11.6},\n",
       "     {'fuel': 'wind', 'perc': 2.7}]},\n",
       "   {'from': '2018-05-16T09:00Z',\n",
       "    'to': '2018-05-16T09:30Z',\n",
       "    'intensity': {'forecast': 302, 'index': 'high'},\n",
       "    'generationmix': [{'fuel': 'biomass', 'perc': 1.5},\n",
       "     {'fuel': 'coal', 'perc': 1},\n",
       "     {'fuel': 'imports', 'perc': 2.6},\n",
       "     {'fuel': 'gas', 'perc': 72.9},\n",
       "     {'fuel': 'nuclear', 'perc': 6.6},\n",
       "     {'fuel': 'other', 'perc': 0},\n",
       "     {'fuel': 'hydro', 'perc': 0},\n",
       "     {'fuel': 'solar', 'perc': 12.6},\n",
       "     {'fuel': 'wind', 'perc': 2.8}]},\n",
       "   {'from': '2018-05-16T09:30Z',\n",
       "    'to': '2018-05-16T10:00Z',\n",
       "    'intensity': {'forecast': 297, 'index': 'high'},\n",
       "    'generationmix': [{'fuel': 'biomass', 'perc': 1.2},\n",
       "     {'fuel': 'coal', 'perc': 0.8},\n",
       "     {'fuel': 'imports', 'perc': 4.1},\n",
       "     {'fuel': 'gas', 'perc': 71.3},\n",
       "     {'fuel': 'nuclear', 'perc': 6.4},\n",
       "     {'fuel': 'other', 'perc': 0},\n",
       "     {'fuel': 'hydro', 'perc': 0},\n",
       "     {'fuel': 'solar', 'perc': 13.6},\n",
       "     {'fuel': 'wind', 'perc': 2.6}]},\n",
       "   {'from': '2018-05-16T10:00Z',\n",
       "    'to': '2018-05-16T10:30Z',\n",
       "    'intensity': {'forecast': 292, 'index': 'high'},\n",
       "    'generationmix': [{'fuel': 'biomass', 'perc': 1},\n",
       "     {'fuel': 'coal', 'perc': 0.5},\n",
       "     {'fuel': 'imports', 'perc': 6.3},\n",
       "     {'fuel': 'gas', 'perc': 69.5},\n",
       "     {'fuel': 'nuclear', 'perc': 5.2},\n",
       "     {'fuel': 'other', 'perc': 0},\n",
       "     {'fuel': 'hydro', 'perc': 0.1},\n",
       "     {'fuel': 'solar', 'perc': 14.4},\n",
       "     {'fuel': 'wind', 'perc': 3}]},\n",
       "   {'from': '2018-05-16T10:30Z',\n",
       "    'to': '2018-05-16T11:00Z',\n",
       "    'intensity': {'forecast': 289, 'index': 'high'},\n",
       "    'generationmix': [{'fuel': 'biomass', 'perc': 0.8},\n",
       "     {'fuel': 'coal', 'perc': 0.3},\n",
       "     {'fuel': 'imports', 'perc': 8.3},\n",
       "     {'fuel': 'gas', 'perc': 68.3},\n",
       "     {'fuel': 'nuclear', 'perc': 4},\n",
       "     {'fuel': 'other', 'perc': 0},\n",
       "     {'fuel': 'hydro', 'perc': 0.1},\n",
       "     {'fuel': 'solar', 'perc': 14.8},\n",
       "     {'fuel': 'wind', 'perc': 3.4}]},\n",
       "   {'from': '2018-05-16T11:00Z',\n",
       "    'to': '2018-05-16T11:30Z',\n",
       "    'intensity': {'forecast': 287, 'index': 'high'},\n",
       "    'generationmix': [{'fuel': 'biomass', 'perc': 0.6},\n",
       "     {'fuel': 'coal', 'perc': 0.1},\n",
       "     {'fuel': 'imports', 'perc': 8.7},\n",
       "     {'fuel': 'gas', 'perc': 68},\n",
       "     {'fuel': 'nuclear', 'perc': 4},\n",
       "     {'fuel': 'other', 'perc': 0},\n",
       "     {'fuel': 'hydro', 'perc': 0.1},\n",
       "     {'fuel': 'solar', 'perc': 15},\n",
       "     {'fuel': 'wind', 'perc': 3.5}]},\n",
       "   {'from': '2018-05-16T11:30Z',\n",
       "    'to': '2018-05-16T12:00Z',\n",
       "    'intensity': {'forecast': 287, 'index': 'high'},\n",
       "    'generationmix': [{'fuel': 'biomass', 'perc': 0.6},\n",
       "     {'fuel': 'coal', 'perc': 0.1},\n",
       "     {'fuel': 'imports', 'perc': 8.8},\n",
       "     {'fuel': 'gas', 'perc': 68.1},\n",
       "     {'fuel': 'nuclear', 'perc': 4},\n",
       "     {'fuel': 'other', 'perc': 0},\n",
       "     {'fuel': 'hydro', 'perc': 0.1},\n",
       "     {'fuel': 'solar', 'perc': 14.8},\n",
       "     {'fuel': 'wind', 'perc': 3.5}]}]}}"
      ]
     },
     "execution_count": 121,
     "metadata": {},
     "output_type": "execute_result"
    }
   ],
   "source": [
    "uk = res_2.json()\n",
    "uk\n",
    "# co2"
   ]
  },
  {
   "cell_type": "code",
   "execution_count": 108,
   "metadata": {},
   "outputs": [
    {
     "data": {
      "text/html": [
       "<div>\n",
       "<style scoped>\n",
       "    .dataframe tbody tr th:only-of-type {\n",
       "        vertical-align: middle;\n",
       "    }\n",
       "\n",
       "    .dataframe tbody tr th {\n",
       "        vertical-align: top;\n",
       "    }\n",
       "\n",
       "    .dataframe thead th {\n",
       "        text-align: right;\n",
       "    }\n",
       "</style>\n",
       "<table border=\"1\" class=\"dataframe\">\n",
       "  <thead>\n",
       "    <tr style=\"text-align: right;\">\n",
       "      <th></th>\n",
       "      <th>data</th>\n",
       "    </tr>\n",
       "  </thead>\n",
       "  <tbody>\n",
       "    <tr>\n",
       "      <th>data</th>\n",
       "      <td>[{'from': '2018-05-15T11:30Z', 'to': '2018-05-...</td>\n",
       "    </tr>\n",
       "    <tr>\n",
       "      <th>postcode</th>\n",
       "      <td>RG10</td>\n",
       "    </tr>\n",
       "    <tr>\n",
       "      <th>regionid</th>\n",
       "      <td>12</td>\n",
       "    </tr>\n",
       "    <tr>\n",
       "      <th>shortname</th>\n",
       "      <td>South England</td>\n",
       "    </tr>\n",
       "  </tbody>\n",
       "</table>\n",
       "</div>"
      ],
      "text/plain": [
       "                                                        data\n",
       "data       [{'from': '2018-05-15T11:30Z', 'to': '2018-05-...\n",
       "postcode                                                RG10\n",
       "regionid                                                  12\n",
       "shortname                                      South England"
      ]
     },
     "execution_count": 108,
     "metadata": {},
     "output_type": "execute_result"
    }
   ],
   "source": [
    "uk_df = pd.DataFrame(uk)\n",
    "uk_df"
   ]
  },
  {
   "cell_type": "code",
   "execution_count": 143,
   "metadata": {},
   "outputs": [
    {
     "name": "stdout",
     "output_type": "stream",
     "text": [
      "from                  2018-05-16T11:30Z\n",
      "to                    2018-05-16T12:00Z\n",
      "intensity.forecast                  313\n",
      "intensity.index                moderate\n",
      "dtype: object\n"
     ]
    },
    {
     "name": "stderr",
     "output_type": "stream",
     "text": [
      "C:\\Users\\Emmanuel\\AppData\\Local\\Temp\\ipykernel_23412\\2986634574.py:3: FutureWarning: Dropping of nuisance columns in DataFrame reductions (with 'numeric_only=None') is deprecated; in a future version this will raise TypeError.  Select only valid columns before calling the reduction.\n",
      "  print(uk_df_norm.max())\n"
     ]
    },
    {
     "data": {
      "text/plain": [
       "[{'fuel': 'biomass', 'perc': 4},\n",
       " {'fuel': 'coal', 'perc': 1},\n",
       " {'fuel': 'imports', 'perc': 4.8},\n",
       " {'fuel': 'gas', 'perc': 73.8},\n",
       " {'fuel': 'nuclear', 'perc': 6},\n",
       " {'fuel': 'other', 'perc': 0},\n",
       " {'fuel': 'hydro', 'perc': 1.9},\n",
       " {'fuel': 'solar', 'perc': 0},\n",
       " {'fuel': 'wind', 'perc': 8.5}]"
      ]
     },
     "execution_count": 143,
     "metadata": {},
     "output_type": "execute_result"
    }
   ],
   "source": [
    "uk_df_norm = json_normalize(uk_df['data'][0])\n",
    "# display(uk_df_norm)\n",
    "print(uk_df_norm.max())\n",
    "\n",
    "uk_df_norm['generationmix'][20]"
   ]
  },
  {
   "cell_type": "code",
   "execution_count": 142,
   "metadata": {},
   "outputs": [],
   "source": [
    "uk_df_norm_gene = json_normalize(uk_df_norm['generationmix'])\n",
    "# uk_df_norm_gene"
   ]
  },
  {
   "attachments": {},
   "cell_type": "markdown",
   "metadata": {},
   "source": [
    "A department in the region of south of UK in consuming 73.8 % in gas and fuel as a source of energy"
   ]
  },
  {
   "cell_type": "code",
   "execution_count": 140,
   "metadata": {},
   "outputs": [
    {
     "name": "stdout",
     "output_type": "stream",
     "text": [
      "[{'fuel': 'biomass', 'perc': 4}, {'fuel': 'coal', 'perc': 1}, {'fuel': 'imports', 'perc': 4.8}, {'fuel': 'gas', 'perc': 73.8}, {'fuel': 'nuclear', 'perc': 6}, {'fuel': 'other', 'perc': 0}, {'fuel': 'hydro', 'perc': 1.9}, {'fuel': 'solar', 'perc': 0}, {'fuel': 'wind', 'perc': 8.5}]\n"
     ]
    }
   ],
   "source": [
    "print(uk_df_norm['generationmix'][20])\n"
   ]
  },
  {
   "cell_type": "code",
   "execution_count": null,
   "metadata": {},
   "outputs": [],
   "source": []
  },
  {
   "attachments": {},
   "cell_type": "markdown",
   "metadata": {},
   "source": [
    "# API n°3 : NYC open data"
   ]
  },
  {
   "cell_type": "code",
   "execution_count": 148,
   "metadata": {},
   "outputs": [
    {
     "name": "stdout",
     "output_type": "stream",
     "text": [
      "<Response [200]>\n"
     ]
    }
   ],
   "source": [
    "res_3 = requests.get('https://data.cityofnewyork.us/resource/erm2-nwe9.json')\n",
    "\n",
    "print(res_3)\n",
    "ny = pd.DataFrame(res_3.json())\n",
    "\n",
    "#data.shape"
   ]
  },
  {
   "cell_type": "code",
   "execution_count": 147,
   "metadata": {},
   "outputs": [
    {
     "data": {
      "text/plain": [
       "Index(['unique_key', 'created_date', 'agency', 'agency_name', 'complaint_type',\n",
       "       'descriptor', 'location_type', 'incident_zip', 'incident_address',\n",
       "       'street_name', 'cross_street_1', 'cross_street_2', 'address_type',\n",
       "       'city', 'facility_type', 'status', 'resolution_description',\n",
       "       'resolution_action_updated_date', 'community_board', 'bbl', 'borough',\n",
       "       'x_coordinate_state_plane', 'y_coordinate_state_plane',\n",
       "       'open_data_channel_type', 'park_facility_name', 'park_borough',\n",
       "       'latitude', 'longitude', 'location', ':@computed_region_efsh_h5xi',\n",
       "       ':@computed_region_f5dn_yrer', ':@computed_region_yeji_bk3q',\n",
       "       ':@computed_region_92fq_4b7q', ':@computed_region_sbqj_enih',\n",
       "       'intersection_street_1', 'intersection_street_2', 'landmark',\n",
       "       'closed_date', 'bridge_highway_name', 'bridge_highway_direction',\n",
       "       'road_ramp', 'bridge_highway_segment', 'taxi_pick_up_location',\n",
       "       'taxi_company_borough'],\n",
       "      dtype='object')"
      ]
     },
     "execution_count": 147,
     "metadata": {},
     "output_type": "execute_result"
    }
   ],
   "source": [
    "ny.columns"
   ]
  },
  {
   "cell_type": "code",
   "execution_count": 152,
   "metadata": {},
   "outputs": [
    {
     "data": {
      "text/plain": [
       "4"
      ]
     },
     "execution_count": 152,
     "metadata": {},
     "output_type": "execute_result"
    }
   ],
   "source": [
    "ny['bridge_highway_name'].value_counts().sum()"
   ]
  },
  {
   "cell_type": "code",
   "execution_count": 153,
   "metadata": {},
   "outputs": [
    {
     "data": {
      "text/plain": [
       "3"
      ]
     },
     "execution_count": 153,
     "metadata": {},
     "output_type": "execute_result"
    }
   ],
   "source": [
    "ny['bridge_highway_direction'].value_counts().sum()"
   ]
  },
  {
   "attachments": {},
   "cell_type": "markdown",
   "metadata": {},
   "source": [
    "we can see that in Ny we have 4 highways bridge and only 3 directions ..... odd !"
   ]
  },
  {
   "cell_type": "code",
   "execution_count": 154,
   "metadata": {},
   "outputs": [
    {
     "data": {
      "text/plain": [
       "985"
      ]
     },
     "execution_count": 154,
     "metadata": {},
     "output_type": "execute_result"
    }
   ],
   "source": [
    "ny['street_name'].value_counts().sum()"
   ]
  },
  {
   "cell_type": "code",
   "execution_count": 155,
   "metadata": {},
   "outputs": [
    {
     "data": {
      "text/plain": [
       "985"
      ]
     },
     "execution_count": 155,
     "metadata": {},
     "output_type": "execute_result"
    }
   ],
   "source": [
    "ny['incident_address'].value_counts().sum()"
   ]
  },
  {
   "attachments": {},
   "cell_type": "markdown",
   "metadata": {},
   "source": [
    "in this fact, we have as many street names than we have incidents !"
   ]
  },
  {
   "cell_type": "code",
   "execution_count": null,
   "metadata": {},
   "outputs": [],
   "source": []
  },
  {
   "cell_type": "code",
   "execution_count": null,
   "metadata": {},
   "outputs": [],
   "source": []
  },
  {
   "cell_type": "code",
   "execution_count": null,
   "metadata": {},
   "outputs": [],
   "source": []
  },
  {
   "cell_type": "code",
   "execution_count": null,
   "metadata": {},
   "outputs": [],
   "source": []
  },
  {
   "cell_type": "code",
   "execution_count": null,
   "metadata": {},
   "outputs": [],
   "source": []
  },
  {
   "cell_type": "code",
   "execution_count": null,
   "metadata": {},
   "outputs": [],
   "source": []
  },
  {
   "cell_type": "code",
   "execution_count": null,
   "metadata": {},
   "outputs": [],
   "source": []
  },
  {
   "cell_type": "code",
   "execution_count": null,
   "metadata": {},
   "outputs": [],
   "source": []
  },
  {
   "cell_type": "code",
   "execution_count": null,
   "metadata": {},
   "outputs": [],
   "source": []
  },
  {
   "cell_type": "code",
   "execution_count": null,
   "metadata": {},
   "outputs": [],
   "source": []
  },
  {
   "cell_type": "code",
   "execution_count": null,
   "metadata": {},
   "outputs": [],
   "source": []
  },
  {
   "cell_type": "code",
   "execution_count": null,
   "metadata": {},
   "outputs": [],
   "source": []
  },
  {
   "cell_type": "code",
   "execution_count": null,
   "metadata": {},
   "outputs": [],
   "source": []
  },
  {
   "cell_type": "code",
   "execution_count": null,
   "metadata": {},
   "outputs": [],
   "source": []
  },
  {
   "cell_type": "code",
   "execution_count": null,
   "metadata": {},
   "outputs": [],
   "source": []
  },
  {
   "cell_type": "code",
   "execution_count": null,
   "metadata": {},
   "outputs": [],
   "source": []
  },
  {
   "cell_type": "code",
   "execution_count": null,
   "metadata": {},
   "outputs": [],
   "source": []
  },
  {
   "cell_type": "code",
   "execution_count": null,
   "metadata": {},
   "outputs": [],
   "source": []
  },
  {
   "cell_type": "code",
   "execution_count": null,
   "metadata": {},
   "outputs": [],
   "source": []
  },
  {
   "cell_type": "code",
   "execution_count": null,
   "metadata": {},
   "outputs": [],
   "source": []
  }
 ],
 "metadata": {
  "kernelspec": {
   "display_name": "base",
   "language": "python",
   "name": "python3"
  },
  "language_info": {
   "codemirror_mode": {
    "name": "ipython",
    "version": 3
   },
   "file_extension": ".py",
   "mimetype": "text/x-python",
   "name": "python",
   "nbconvert_exporter": "python",
   "pygments_lexer": "ipython3",
   "version": "3.9.13"
  },
  "vscode": {
   "interpreter": {
    "hash": "3b3bd93e6e993b5a0362fec8f7339ef1ba3066e57f882c75a84b879c84a67f0f"
   }
  }
 },
 "nbformat": 4,
 "nbformat_minor": 4
}
